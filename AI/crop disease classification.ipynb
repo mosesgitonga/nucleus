{
 "cells": [
  {
   "cell_type": "code",
   "execution_count": 1,
   "id": "6c309c20-b5e1-42e3-bd57-82cd536d614c",
   "metadata": {},
   "outputs": [
    {
     "name": "stdout",
     "output_type": "stream",
     "text": [
      "Requirement already satisfied: fastai in /home/moses/repos/nucleus/venv/lib/python3.10/site-packages (2.7.12)\n",
      "Requirement already satisfied: pip in /home/moses/repos/nucleus/venv/lib/python3.10/site-packages (from fastai) (25.1.1)\n",
      "Requirement already satisfied: packaging in /home/moses/repos/nucleus/venv/lib/python3.10/site-packages (from fastai) (25.0)\n",
      "Requirement already satisfied: fastdownload<2,>=0.0.5 in /home/moses/repos/nucleus/venv/lib/python3.10/site-packages (from fastai) (0.0.7)\n",
      "Requirement already satisfied: fastcore<1.6,>=1.5.29 in /home/moses/repos/nucleus/venv/lib/python3.10/site-packages (from fastai) (1.5.55)\n",
      "Requirement already satisfied: torchvision>=0.8.2 in /home/moses/repos/nucleus/venv/lib/python3.10/site-packages (from fastai) (0.14.1)\n",
      "Requirement already satisfied: matplotlib in /home/moses/repos/nucleus/venv/lib/python3.10/site-packages (from fastai) (3.10.3)\n",
      "Requirement already satisfied: pandas in /home/moses/repos/nucleus/venv/lib/python3.10/site-packages (from fastai) (2.3.0)\n",
      "Requirement already satisfied: requests in /home/moses/repos/nucleus/venv/lib/python3.10/site-packages (from fastai) (2.32.4)\n",
      "Requirement already satisfied: pyyaml in /home/moses/repos/nucleus/venv/lib/python3.10/site-packages (from fastai) (6.0.2)\n",
      "Requirement already satisfied: fastprogress>=0.2.4 in /home/moses/repos/nucleus/venv/lib/python3.10/site-packages (from fastai) (1.0.3)\n",
      "Requirement already satisfied: pillow>6.0.0 in /home/moses/repos/nucleus/venv/lib/python3.10/site-packages (from fastai) (11.2.1)\n",
      "Requirement already satisfied: scikit-learn in /home/moses/repos/nucleus/venv/lib/python3.10/site-packages (from fastai) (1.7.0)\n",
      "Requirement already satisfied: scipy in /home/moses/repos/nucleus/venv/lib/python3.10/site-packages (from fastai) (1.15.3)\n",
      "Requirement already satisfied: spacy<4 in /home/moses/repos/nucleus/venv/lib/python3.10/site-packages (from fastai) (3.8.7)\n",
      "Requirement already satisfied: torch<2.1,>=1.7 in /home/moses/repos/nucleus/venv/lib/python3.10/site-packages (from fastai) (1.13.1)\n",
      "Requirement already satisfied: spacy-legacy<3.1.0,>=3.0.11 in /home/moses/repos/nucleus/venv/lib/python3.10/site-packages (from spacy<4->fastai) (3.0.12)\n",
      "Requirement already satisfied: spacy-loggers<2.0.0,>=1.0.0 in /home/moses/repos/nucleus/venv/lib/python3.10/site-packages (from spacy<4->fastai) (1.0.5)\n",
      "Requirement already satisfied: murmurhash<1.1.0,>=0.28.0 in /home/moses/repos/nucleus/venv/lib/python3.10/site-packages (from spacy<4->fastai) (1.0.13)\n",
      "Requirement already satisfied: cymem<2.1.0,>=2.0.2 in /home/moses/repos/nucleus/venv/lib/python3.10/site-packages (from spacy<4->fastai) (2.0.11)\n",
      "Requirement already satisfied: preshed<3.1.0,>=3.0.2 in /home/moses/repos/nucleus/venv/lib/python3.10/site-packages (from spacy<4->fastai) (3.0.10)\n",
      "Requirement already satisfied: thinc<8.4.0,>=8.3.4 in /home/moses/repos/nucleus/venv/lib/python3.10/site-packages (from spacy<4->fastai) (8.3.6)\n",
      "Requirement already satisfied: wasabi<1.2.0,>=0.9.1 in /home/moses/repos/nucleus/venv/lib/python3.10/site-packages (from spacy<4->fastai) (1.1.3)\n",
      "Requirement already satisfied: srsly<3.0.0,>=2.4.3 in /home/moses/repos/nucleus/venv/lib/python3.10/site-packages (from spacy<4->fastai) (2.5.1)\n",
      "Requirement already satisfied: catalogue<2.1.0,>=2.0.6 in /home/moses/repos/nucleus/venv/lib/python3.10/site-packages (from spacy<4->fastai) (2.0.10)\n",
      "Requirement already satisfied: weasel<0.5.0,>=0.1.0 in /home/moses/repos/nucleus/venv/lib/python3.10/site-packages (from spacy<4->fastai) (0.4.1)\n",
      "Requirement already satisfied: typer<1.0.0,>=0.3.0 in /home/moses/repos/nucleus/venv/lib/python3.10/site-packages (from spacy<4->fastai) (0.16.0)\n",
      "Requirement already satisfied: tqdm<5.0.0,>=4.38.0 in /home/moses/repos/nucleus/venv/lib/python3.10/site-packages (from spacy<4->fastai) (4.67.1)\n",
      "Requirement already satisfied: numpy>=1.19.0 in /home/moses/repos/nucleus/venv/lib/python3.10/site-packages (from spacy<4->fastai) (2.2.6)\n",
      "Requirement already satisfied: pydantic!=1.8,!=1.8.1,<3.0.0,>=1.7.4 in /home/moses/repos/nucleus/venv/lib/python3.10/site-packages (from spacy<4->fastai) (2.11.5)\n",
      "Requirement already satisfied: jinja2 in /home/moses/repos/nucleus/venv/lib/python3.10/site-packages (from spacy<4->fastai) (3.1.6)\n",
      "Requirement already satisfied: setuptools in /home/moses/repos/nucleus/venv/lib/python3.10/site-packages (from spacy<4->fastai) (59.6.0)\n",
      "Requirement already satisfied: langcodes<4.0.0,>=3.2.0 in /home/moses/repos/nucleus/venv/lib/python3.10/site-packages (from spacy<4->fastai) (3.5.0)\n",
      "Requirement already satisfied: language-data>=1.2 in /home/moses/repos/nucleus/venv/lib/python3.10/site-packages (from langcodes<4.0.0,>=3.2.0->spacy<4->fastai) (1.3.0)\n",
      "Requirement already satisfied: annotated-types>=0.6.0 in /home/moses/repos/nucleus/venv/lib/python3.10/site-packages (from pydantic!=1.8,!=1.8.1,<3.0.0,>=1.7.4->spacy<4->fastai) (0.7.0)\n",
      "Requirement already satisfied: pydantic-core==2.33.2 in /home/moses/repos/nucleus/venv/lib/python3.10/site-packages (from pydantic!=1.8,!=1.8.1,<3.0.0,>=1.7.4->spacy<4->fastai) (2.33.2)\n",
      "Requirement already satisfied: typing-extensions>=4.12.2 in /home/moses/repos/nucleus/venv/lib/python3.10/site-packages (from pydantic!=1.8,!=1.8.1,<3.0.0,>=1.7.4->spacy<4->fastai) (4.14.0)\n",
      "Requirement already satisfied: typing-inspection>=0.4.0 in /home/moses/repos/nucleus/venv/lib/python3.10/site-packages (from pydantic!=1.8,!=1.8.1,<3.0.0,>=1.7.4->spacy<4->fastai) (0.4.1)\n",
      "Requirement already satisfied: charset_normalizer<4,>=2 in /home/moses/repos/nucleus/venv/lib/python3.10/site-packages (from requests->fastai) (3.4.2)\n",
      "Requirement already satisfied: idna<4,>=2.5 in /home/moses/repos/nucleus/venv/lib/python3.10/site-packages (from requests->fastai) (3.10)\n",
      "Requirement already satisfied: urllib3<3,>=1.21.1 in /home/moses/repos/nucleus/venv/lib/python3.10/site-packages (from requests->fastai) (2.4.0)\n",
      "Requirement already satisfied: certifi>=2017.4.17 in /home/moses/repos/nucleus/venv/lib/python3.10/site-packages (from requests->fastai) (2025.4.26)\n",
      "Requirement already satisfied: blis<1.4.0,>=1.3.0 in /home/moses/repos/nucleus/venv/lib/python3.10/site-packages (from thinc<8.4.0,>=8.3.4->spacy<4->fastai) (1.3.0)\n",
      "Requirement already satisfied: confection<1.0.0,>=0.0.1 in /home/moses/repos/nucleus/venv/lib/python3.10/site-packages (from thinc<8.4.0,>=8.3.4->spacy<4->fastai) (0.1.5)\n",
      "Requirement already satisfied: nvidia-cuda-runtime-cu11==11.7.99 in /home/moses/repos/nucleus/venv/lib/python3.10/site-packages (from torch<2.1,>=1.7->fastai) (11.7.99)\n",
      "Requirement already satisfied: nvidia-cudnn-cu11==8.5.0.96 in /home/moses/repos/nucleus/venv/lib/python3.10/site-packages (from torch<2.1,>=1.7->fastai) (8.5.0.96)\n",
      "Requirement already satisfied: nvidia-cublas-cu11==11.10.3.66 in /home/moses/repos/nucleus/venv/lib/python3.10/site-packages (from torch<2.1,>=1.7->fastai) (11.10.3.66)\n",
      "Requirement already satisfied: nvidia-cuda-nvrtc-cu11==11.7.99 in /home/moses/repos/nucleus/venv/lib/python3.10/site-packages (from torch<2.1,>=1.7->fastai) (11.7.99)\n",
      "Requirement already satisfied: wheel in /home/moses/repos/nucleus/venv/lib/python3.10/site-packages (from nvidia-cublas-cu11==11.10.3.66->torch<2.1,>=1.7->fastai) (0.45.1)\n",
      "Requirement already satisfied: click>=8.0.0 in /home/moses/repos/nucleus/venv/lib/python3.10/site-packages (from typer<1.0.0,>=0.3.0->spacy<4->fastai) (8.2.1)\n",
      "Requirement already satisfied: shellingham>=1.3.0 in /home/moses/repos/nucleus/venv/lib/python3.10/site-packages (from typer<1.0.0,>=0.3.0->spacy<4->fastai) (1.5.4)\n",
      "Requirement already satisfied: rich>=10.11.0 in /home/moses/repos/nucleus/venv/lib/python3.10/site-packages (from typer<1.0.0,>=0.3.0->spacy<4->fastai) (14.0.0)\n",
      "Requirement already satisfied: cloudpathlib<1.0.0,>=0.7.0 in /home/moses/repos/nucleus/venv/lib/python3.10/site-packages (from weasel<0.5.0,>=0.1.0->spacy<4->fastai) (0.21.1)\n",
      "Requirement already satisfied: smart-open<8.0.0,>=5.2.1 in /home/moses/repos/nucleus/venv/lib/python3.10/site-packages (from weasel<0.5.0,>=0.1.0->spacy<4->fastai) (7.1.0)\n",
      "Requirement already satisfied: wrapt in /home/moses/repos/nucleus/venv/lib/python3.10/site-packages (from smart-open<8.0.0,>=5.2.1->weasel<0.5.0,>=0.1.0->spacy<4->fastai) (1.17.2)\n",
      "Requirement already satisfied: marisa-trie>=1.1.0 in /home/moses/repos/nucleus/venv/lib/python3.10/site-packages (from language-data>=1.2->langcodes<4.0.0,>=3.2.0->spacy<4->fastai) (1.2.1)\n",
      "Requirement already satisfied: markdown-it-py>=2.2.0 in /home/moses/repos/nucleus/venv/lib/python3.10/site-packages (from rich>=10.11.0->typer<1.0.0,>=0.3.0->spacy<4->fastai) (3.0.0)\n",
      "Requirement already satisfied: pygments<3.0.0,>=2.13.0 in /home/moses/repos/nucleus/venv/lib/python3.10/site-packages (from rich>=10.11.0->typer<1.0.0,>=0.3.0->spacy<4->fastai) (2.19.1)\n",
      "Requirement already satisfied: mdurl~=0.1 in /home/moses/repos/nucleus/venv/lib/python3.10/site-packages (from markdown-it-py>=2.2.0->rich>=10.11.0->typer<1.0.0,>=0.3.0->spacy<4->fastai) (0.1.2)\n",
      "Requirement already satisfied: MarkupSafe>=2.0 in /home/moses/repos/nucleus/venv/lib/python3.10/site-packages (from jinja2->spacy<4->fastai) (3.0.2)\n",
      "Requirement already satisfied: contourpy>=1.0.1 in /home/moses/repos/nucleus/venv/lib/python3.10/site-packages (from matplotlib->fastai) (1.3.2)\n",
      "Requirement already satisfied: cycler>=0.10 in /home/moses/repos/nucleus/venv/lib/python3.10/site-packages (from matplotlib->fastai) (0.12.1)\n",
      "Requirement already satisfied: fonttools>=4.22.0 in /home/moses/repos/nucleus/venv/lib/python3.10/site-packages (from matplotlib->fastai) (4.58.2)\n",
      "Requirement already satisfied: kiwisolver>=1.3.1 in /home/moses/repos/nucleus/venv/lib/python3.10/site-packages (from matplotlib->fastai) (1.4.8)\n",
      "Requirement already satisfied: pyparsing>=2.3.1 in /home/moses/repos/nucleus/venv/lib/python3.10/site-packages (from matplotlib->fastai) (3.2.3)\n",
      "Requirement already satisfied: python-dateutil>=2.7 in /home/moses/repos/nucleus/venv/lib/python3.10/site-packages (from matplotlib->fastai) (2.9.0.post0)\n",
      "Requirement already satisfied: six>=1.5 in /home/moses/repos/nucleus/venv/lib/python3.10/site-packages (from python-dateutil>=2.7->matplotlib->fastai) (1.17.0)\n",
      "Requirement already satisfied: pytz>=2020.1 in /home/moses/repos/nucleus/venv/lib/python3.10/site-packages (from pandas->fastai) (2025.2)\n",
      "Requirement already satisfied: tzdata>=2022.7 in /home/moses/repos/nucleus/venv/lib/python3.10/site-packages (from pandas->fastai) (2025.2)\n",
      "Requirement already satisfied: joblib>=1.2.0 in /home/moses/repos/nucleus/venv/lib/python3.10/site-packages (from scikit-learn->fastai) (1.5.1)\n",
      "Requirement already satisfied: threadpoolctl>=3.1.0 in /home/moses/repos/nucleus/venv/lib/python3.10/site-packages (from scikit-learn->fastai) (3.6.0)\n"
     ]
    }
   ],
   "source": [
    "!pip install fastai"
   ]
  },
  {
   "cell_type": "code",
   "execution_count": null,
   "id": "2ab9ad0c-f6af-4589-96ed-883266ff3eca",
   "metadata": {},
   "outputs": [],
   "source": [
    "from fastai.vision.all import *\n",
    "\n",
    "path = Path('dataset')\n",
    "\n",
    "# Define the DataBlock with better focus on generalization\n",
    "dblock = DataBlock(\n",
    "    blocks=(ImageBlock, CategoryBlock),\n",
    "    get_items=get_image_files,\n",
    "    get_y=parent_label,\n",
    "    splitter=RandomSplitter(valid_pct=0.2, seed=42),\n",
    "\n",
    "    # Keep original image sizes longer for more fidelity\n",
    "    item_tfms=[ToTensor()],  # Avoid early Resize (preserves original content)\n",
    "    \n",
    "    batch_tfms=[\n",
    "        *aug_transforms(\n",
    "            size=224,\n",
    "            max_rotate=20,  # Stronger rotation\n",
    "            max_zoom=1.2,   # Slight zoom\n",
    "            max_lighting=0.4,  # Stronger brightness/contrast shift\n",
    "            max_warp=0.2,   # Perspective distortion\n",
    "            p_affine=0.75, p_lighting=0.75\n",
    "        ),\n",
    "        Normalize.from_stats(*imagenet_stats)  # Standard normalization\n",
    "    ]\n",
    ")\n",
    "\n",
    "# Use small batch size and avoid parallel processing for low RAM\n",
    "dls = dblock.dataloaders(path, bs=16, num_workers=0)\n",
    "\n"
   ]
  },
  {
   "cell_type": "code",
   "execution_count": 1,
   "id": "2c330a3e-1953-4698-b2f5-c21186464230",
   "metadata": {},
   "outputs": [
    {
     "ename": "NameError",
     "evalue": "name 'ClassificationInterpretation' is not defined",
     "output_type": "error",
     "traceback": [
      "\u001b[0;31m---------------------------------------------------------------------------\u001b[0m",
      "\u001b[0;31mNameError\u001b[0m                                 Traceback (most recent call last)",
      "Cell \u001b[0;32mIn[1], line 1\u001b[0m\n\u001b[0;32m----> 1\u001b[0m interp \u001b[38;5;241m=\u001b[39m \u001b[43mClassificationInterpretation\u001b[49m\u001b[38;5;241m.\u001b[39mfrom_learner(learn)\n\u001b[1;32m      2\u001b[0m interp\u001b[38;5;241m.\u001b[39mplot_confusion_matrix()\n\u001b[1;32m      3\u001b[0m interp\u001b[38;5;241m.\u001b[39mplot_top_losses(\u001b[38;5;241m4\u001b[39m, nrows\u001b[38;5;241m=\u001b[39m\u001b[38;5;241m1\u001b[39m)\n",
      "\u001b[0;31mNameError\u001b[0m: name 'ClassificationInterpretation' is not defined"
     ]
    }
   ],
   "source": [
    "interp = ClassificationInterpretation.from_learner(learn)\n",
    "interp.plot_confusion_matrix()\n",
    "interp.plot_top_losses(4, nrows=1)"
   ]
  },
  {
   "cell_type": "code",
   "execution_count": null,
   "id": "41b6feb7-d00c-4a0a-857c-d35912332dac",
   "metadata": {},
   "outputs": [],
   "source": [
    "learn.export('nucleusV2.pkl') "
   ]
  },
  {
   "cell_type": "code",
   "execution_count": null,
   "id": "26bdaba6-cf6d-4815-8e62-e600471f5d4d",
   "metadata": {},
   "outputs": [],
   "source": []
  },
  {
   "cell_type": "code",
   "execution_count": null,
   "id": "6940ba9e-1147-4b56-bbf5-cbf9cd4a77ca",
   "metadata": {},
   "outputs": [],
   "source": []
  },
  {
   "cell_type": "code",
   "execution_count": null,
   "id": "3003e11e-dc9f-4566-844e-ce44fe2e95a4",
   "metadata": {},
   "outputs": [],
   "source": []
  },
  {
   "cell_type": "code",
   "execution_count": null,
   "id": "2cffedfd-23b4-440d-8e1d-a28e2c477e00",
   "metadata": {},
   "outputs": [],
   "source": []
  },
  {
   "cell_type": "code",
   "execution_count": null,
   "id": "36fa4467-61be-44fa-bce5-40f6fd794cd9",
   "metadata": {},
   "outputs": [],
   "source": []
  }
 ],
 "metadata": {
  "kernelspec": {
   "display_name": "Python 3 (ipykernel)",
   "language": "python",
   "name": "python3"
  },
  "language_info": {
   "codemirror_mode": {
    "name": "ipython",
    "version": 3
   },
   "file_extension": ".py",
   "mimetype": "text/x-python",
   "name": "python",
   "nbconvert_exporter": "python",
   "pygments_lexer": "ipython3",
   "version": "3.10.12"
  }
 },
 "nbformat": 4,
 "nbformat_minor": 5
}
